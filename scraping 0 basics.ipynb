{
 "cells": [
  {
   "cell_type": "code",
   "execution_count": 1,
   "metadata": {},
   "outputs": [],
   "source": [
    "import requests\n",
    "import bs4"
   ]
  },
  {
   "cell_type": "code",
   "execution_count": 2,
   "metadata": {},
   "outputs": [],
   "source": [
    "URL = \"https://pybit.es/pages/projects.html\""
   ]
  },
  {
   "cell_type": "code",
   "execution_count": 3,
   "metadata": {},
   "outputs": [],
   "source": [
    "def pull_site():\n",
    "    raw_site_page = requests.get(URL) \n",
    "    raw_site_page.raise_for_status()  \n",
    "    return raw_site_page\n",
    "\n",
    "def scrape(site):\n",
    "    header_list = []\n",
    "    \n",
    "    soup = bs4.BeautifulSoup(site.text, 'html.parser')\n",
    "    html_header_list = soup.select('.projectHeader')\n",
    "\n",
    "    for headers in html_header_list:\n",
    "        header_list.append(headers.getText())\n",
    "    for headers in header_list:\n",
    "        print(headers)"
   ]
  },
  {
   "cell_type": "code",
   "execution_count": 4,
   "metadata": {},
   "outputs": [
    {
     "name": "stdout",
     "output_type": "stream",
     "text": [
      "0. PyBites Apps (first 100 days)\n",
      "1. #100DaysOfCode (Mar 30, 2017 - Jul 07, 2017)\n",
      "2. #100DaysOfDjango (Jul 08, 2017 - Oct 15, 2017)\n",
      "3. PyBites Code Challenges Platform (Oct 16, 2017 - Jan 23, 2018)\n",
      "4. PyBites Community #100DaysOfCode (Jan 24, 2017 - May 03, 2018)\n"
     ]
    }
   ],
   "source": [
    "if __name__ == \"__main__\":\n",
    "    site = pull_site()\n",
    "    scrape(site)"
   ]
  },
  {
   "cell_type": "code",
   "execution_count": null,
   "metadata": {},
   "outputs": [],
   "source": []
  }
 ],
 "metadata": {
  "kernelspec": {
   "display_name": "Python 3",
   "language": "python",
   "name": "python3"
  },
  "language_info": {
   "codemirror_mode": {
    "name": "ipython",
    "version": 3
   },
   "file_extension": ".py",
   "mimetype": "text/x-python",
   "name": "python",
   "nbconvert_exporter": "python",
   "pygments_lexer": "ipython3",
   "version": "3.8.6"
  }
 },
 "nbformat": 4,
 "nbformat_minor": 4
}
